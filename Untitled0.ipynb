{
  "nbformat": 4,
  "nbformat_minor": 0,
  "metadata": {
    "colab": {
      "provenance": [],
      "authorship_tag": "ABX9TyNikC8RO06H9ZhR0C0EVSFP",
      "include_colab_link": true
    },
    "kernelspec": {
      "name": "python3",
      "display_name": "Python 3"
    },
    "language_info": {
      "name": "python"
    }
  },
  "cells": [
    {
      "cell_type": "markdown",
      "metadata": {
        "id": "view-in-github",
        "colab_type": "text"
      },
      "source": [
        "<a href=\"https://colab.research.google.com/github/JCORZO45/Graficadora_Funciones/blob/main/Untitled0.ipynb\" target=\"_parent\"><img src=\"https://colab.research.google.com/assets/colab-badge.svg\" alt=\"Open In Colab\"/></a>"
      ]
    },
    {
      "cell_type": "markdown",
      "source": [
        "#Grafica de una funcion lineal "
      ],
      "metadata": {
        "id": "_vomG715B-ZH"
      }
    },
    {
      "cell_type": "code",
      "execution_count": 2,
      "metadata": {
        "id": "1b-zuwmhB8qx"
      },
      "outputs": [],
      "source": [
        "#importamos la libreria matplotlib y numpy y le asignamos un alias \n",
        "import numpy as np \n",
        "import matplotlib.pyplot as plt \n"
      ]
    },
    {
      "cell_type": "code",
      "source": [
        "#programa para graficar una linea recta , con base en la ecuacion y=mx+b\n",
        "# m es la pendiente de la recta \n",
        "# b es el punto de corte con el eje y \n",
        "\n",
        "#numero de puntos a graficar\n",
        "N=100\n",
        "\n",
        "#funcion para calcular los valores de y \n",
        "def funcion_lineal(m,b,x):\n",
        "  return m*x+b\n",
        "\n",
        "#input\n",
        "print(\"--------------------------------------------------------------------\")\n",
        "print(\"--------------Bienvenido a la graficadora de funciones--------------\")\n",
        "print(\"--------------------------------------------------------------------\")\n",
        "print(\"\\n Que Funcion Deseas Graficar: \")\n",
        "\n",
        "print(\"1. Funcion Lineal\")\n",
        "print(\"2. Funcion caudratica\")\n",
        "print(\"3. Funcion cubica\")\n",
        "print(\"4. Funcion exponencial\")\n",
        "print(\"5. Funcion logaritmica\")\n",
        "print(\"6. Funcion Trigonometrica\")\n",
        "\n",
        "if \n",
        "m=int(input(\"Digite el valor de la pendiente: \"))\n",
        "b=int(input(\"Digite el valor del punto de corte con el eje y: \"))\n",
        "\n",
        "#processing - graphication \n",
        "x=np.linspace(-10,10, num=N)\n",
        "y= funcion_lineal(m,b,x)\n",
        "plt.plot(x,y,color=\"r\")\n",
        "plt.xlabel(\"x\")\n",
        "plt.ylabel(\"y\")\n",
        "plt.title(\"Funcion lineal: y=mx+b\")\n",
        "plt.grid()\n",
        "plt.axhline(y=0,color=\"b\")\n",
        "plt.axvline(x=0, color=\"b\")\n",
        "plt.show()\n",
        "\n",
        "\n"
      ],
      "metadata": {
        "id": "XkqJ5gIiCdc0"
      },
      "execution_count": null,
      "outputs": []
    },
    {
      "cell_type": "code",
      "source": [],
      "metadata": {
        "id": "L4ZyHf7bFLZw"
      },
      "execution_count": null,
      "outputs": []
    }
  ]
}